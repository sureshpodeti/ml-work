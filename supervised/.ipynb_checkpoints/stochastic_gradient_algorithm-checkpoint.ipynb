{
 "cells": [
  {
   "cell_type": "code",
   "execution_count": 106,
   "metadata": {},
   "outputs": [],
   "source": [
    "import numpy as np\n",
    "import random"
   ]
  },
  {
   "cell_type": "code",
   "execution_count": 107,
   "metadata": {},
   "outputs": [],
   "source": [
    "data = np.array([\n",
    "    [1,1],\n",
    "    [2,2],\n",
    "    [3,2]\n",
    "])"
   ]
  },
  {
   "cell_type": "code",
   "execution_count": 108,
   "metadata": {},
   "outputs": [],
   "source": [
    "X = np.reshape(data[:, 0], (m,1))"
   ]
  },
  {
   "cell_type": "code",
   "execution_count": 109,
   "metadata": {},
   "outputs": [],
   "source": [
    "Y =  np.reshape(data[:, 1], (m,1))"
   ]
  },
  {
   "cell_type": "code",
   "execution_count": 119,
   "metadata": {},
   "outputs": [],
   "source": [
    "def stochastic_gradient_descent(X, Y, learning_rate=0.1, epochs=100):\n",
    "    (m,n) = X.shape\n",
    "    \n",
    "    X = np.hstack([np.ones((m,1)), X])\n",
    "    \n",
    "    theta = np.zeros((n+1,1))\n",
    "\n",
    "    # shuffle the data\n",
    "    np.random.shuffle(X)\n",
    "    \n",
    "    i =  0\n",
    "    \n",
    "    while i<2: \n",
    "        theta -= np.reshape(((learning_rate)*X[i, :]*(np.dot(X, theta)[i][0]-Y[i][0])), (n+1,1))\n",
    "        i += 1\n",
    "        \n",
    "    return theta\n",
    "        \n",
    "    "
   ]
  },
  {
   "cell_type": "code",
   "execution_count": 120,
   "metadata": {},
   "outputs": [
    {
     "data": {
      "text/plain": [
       "array([[0.1],\n",
       "       [0.3]])"
      ]
     },
     "execution_count": 120,
     "metadata": {},
     "output_type": "execute_result"
    }
   ],
   "source": [
    "stochastic_gradient_descent(X, Y)"
   ]
  },
  {
   "cell_type": "code",
   "execution_count": null,
   "metadata": {},
   "outputs": [],
   "source": []
  }
 ],
 "metadata": {
  "kernelspec": {
   "display_name": "Python 3",
   "language": "python",
   "name": "python3"
  },
  "language_info": {
   "codemirror_mode": {
    "name": "ipython",
    "version": 3
   },
   "file_extension": ".py",
   "mimetype": "text/x-python",
   "name": "python",
   "nbconvert_exporter": "python",
   "pygments_lexer": "ipython3",
   "version": "3.6.8rc1"
  }
 },
 "nbformat": 4,
 "nbformat_minor": 2
}
