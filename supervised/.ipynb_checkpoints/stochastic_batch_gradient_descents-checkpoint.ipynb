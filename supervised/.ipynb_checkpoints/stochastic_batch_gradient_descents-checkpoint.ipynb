{
 "cells": [
  {
   "cell_type": "code",
   "execution_count": 157,
   "metadata": {},
   "outputs": [],
   "source": [
    "import numpy as np"
   ]
  },
  {
   "cell_type": "code",
   "execution_count": 158,
   "metadata": {},
   "outputs": [],
   "source": [
    "data = np.array([\n",
    "    [1,1],\n",
    "    [2,2],\n",
    "    [3,2]\n",
    "])"
   ]
  },
  {
   "cell_type": "code",
   "execution_count": 159,
   "metadata": {},
   "outputs": [],
   "source": [
    "(m,n) = data.shape"
   ]
  },
  {
   "cell_type": "code",
   "execution_count": 160,
   "metadata": {},
   "outputs": [],
   "source": [
    "    X = np.reshape(data[:, 0], (m,1))"
   ]
  },
  {
   "cell_type": "code",
   "execution_count": 161,
   "metadata": {},
   "outputs": [],
   "source": [
    "Y = np.reshape(data[:, 1], (m,1))"
   ]
  },
  {
   "cell_type": "code",
   "execution_count": 162,
   "metadata": {},
   "outputs": [],
   "source": [
    "def cost_function(X, Y, theta):\n",
    "    return (1/(2*X.shape[0]))*np.sum(np.square(np.dot(X,theta)-Y), axis=0)[0]"
   ]
  },
  {
   "cell_type": "code",
   "execution_count": 163,
   "metadata": {},
   "outputs": [],
   "source": [
    "def stochastic_gradient(X, Y, alpha=0.01, error=1e-9):\n",
    "    (m,n) = X.shape\n",
    "    \n",
    "    X = np.hstack([np.ones((m,1)), X])\n",
    "    \n",
    "    theta = np.zeros((n+1,1))\n",
    "    \n",
    "    no_of_iter = 0\n",
    "    \n",
    "    np.random.shuffle(X)\n",
    "    \n",
    "    while True:\n",
    "        \n",
    "        cost_prev = cost_function(X, Y, theta)\n",
    "        \n",
    "        theta -= (alpha)*np.reshape(X[0, :].T, (n+1,1)) * (np.dot(X[0, :], theta)-Y[0, :])[0]\n",
    "        cost_curr = cost_function(X, Y, theta)\n",
    "                \n",
    "        if abs(cost_prev - cost_curr)<error:\n",
    "            break;\n",
    "        no_of_iter += 1\n",
    "        \n",
    "    return (theta, no_of_iter)"
   ]
  },
  {
   "cell_type": "code",
   "execution_count": 164,
   "metadata": {},
   "outputs": [],
   "source": [
    "(theta_stochastic, no_of_iter_stochastic) = stochastic_gradient(X, Y)"
   ]
  },
  {
   "cell_type": "code",
   "execution_count": 165,
   "metadata": {},
   "outputs": [
    {
     "data": {
      "text/plain": [
       "(array([[0.19999999],\n",
       "        [0.39999999]]), 335)"
      ]
     },
     "execution_count": 165,
     "metadata": {},
     "output_type": "execute_result"
    }
   ],
   "source": [
    "theta_stochastic, no_of_iter_stochastic"
   ]
  },
  {
   "cell_type": "code",
   "execution_count": 166,
   "metadata": {},
   "outputs": [],
   "source": [
    "def batch_gradient(X, Y, alpha=0.01, error=1e-9):\n",
    "    (m,n) = X.shape\n",
    "    \n",
    "    X = np.hstack([np.ones((m,1)), X])\n",
    "    \n",
    "    theta = np.zeros((n+1,1))\n",
    "    \n",
    "    no_of_iter = 0\n",
    "        \n",
    "    while True:\n",
    "        \n",
    "        cost_prev = cost_function(X, Y, theta)\n",
    "        \n",
    "        theta -= (alpha/m)*np.dot(X.T, np.dot(X, theta)-Y)\n",
    "        cost_curr = cost_function(X, Y, theta)\n",
    "                \n",
    "        if abs(cost_prev - cost_curr)<error:\n",
    "            break;\n",
    "        no_of_iter += 1\n",
    "        \n",
    "    return (theta, no_of_iter)"
   ]
  },
  {
   "cell_type": "code",
   "execution_count": 167,
   "metadata": {},
   "outputs": [],
   "source": [
    "(theta_batch, no_of_iter_batch) = batch_gradient(X, Y)"
   ]
  },
  {
   "cell_type": "code",
   "execution_count": 168,
   "metadata": {},
   "outputs": [
    {
     "data": {
      "text/plain": [
       "array([[0.66426218],\n",
       "       [0.50105774]])"
      ]
     },
     "execution_count": 168,
     "metadata": {},
     "output_type": "execute_result"
    }
   ],
   "source": [
    "theta_batch"
   ]
  },
  {
   "cell_type": "code",
   "execution_count": 169,
   "metadata": {},
   "outputs": [
    {
     "data": {
      "text/plain": [
       "4196"
      ]
     },
     "execution_count": 169,
     "metadata": {},
     "output_type": "execute_result"
    }
   ],
   "source": [
    "no_of_iter_batch"
   ]
  },
  {
   "cell_type": "code",
   "execution_count": 190,
   "metadata": {},
   "outputs": [],
   "source": [
    "from sklearn import datasets, preprocessing, model_selection, linear_model"
   ]
  },
  {
   "cell_type": "code",
   "execution_count": 171,
   "metadata": {},
   "outputs": [],
   "source": [
    "# load boston housing dataset\n",
    "dataset = datasets.load_boston()"
   ]
  },
  {
   "cell_type": "code",
   "execution_count": 172,
   "metadata": {},
   "outputs": [],
   "source": [
    "X = dataset.data"
   ]
  },
  {
   "cell_type": "code",
   "execution_count": 176,
   "metadata": {},
   "outputs": [],
   "source": [
    "(m,n) = X.shape"
   ]
  },
  {
   "cell_type": "code",
   "execution_count": 177,
   "metadata": {},
   "outputs": [],
   "source": [
    "Y = np.reshape(dataset.target, (m,1))"
   ]
  },
  {
   "cell_type": "code",
   "execution_count": 180,
   "metadata": {},
   "outputs": [],
   "source": [
    "X = preprocessing.scale(X)"
   ]
  },
  {
   "cell_type": "code",
   "execution_count": 182,
   "metadata": {},
   "outputs": [],
   "source": [
    "# split the data into train and test\n",
    "X_train, X_test, Y_train, Y_test = model_selection.train_test_split(X, Y, test_size=.3)"
   ]
  },
  {
   "cell_type": "code",
   "execution_count": 183,
   "metadata": {},
   "outputs": [],
   "source": [
    "(theta_stoch_boston, no_of_iter_stoch_boston) = stochastic_gradient(X_train, Y_train)"
   ]
  },
  {
   "cell_type": "code",
   "execution_count": 184,
   "metadata": {},
   "outputs": [
    {
     "data": {
      "text/plain": [
       "array([[ 1.33322123],\n",
       "       [-0.5212545 ],\n",
       "       [-0.65024181],\n",
       "       [-0.82223287],\n",
       "       [-0.3634342 ],\n",
       "       [-1.22878619],\n",
       "       [-1.68216084],\n",
       "       [ 1.26703985],\n",
       "       [ 1.31505031],\n",
       "       [-1.00381179],\n",
       "       [-1.38759403],\n",
       "       [-0.3424484 ],\n",
       "       [ 0.5880198 ],\n",
       "       [ 3.3932167 ]])"
      ]
     },
     "execution_count": 184,
     "metadata": {},
     "output_type": "execute_result"
    }
   ],
   "source": [
    "theta_stoch_boston"
   ]
  },
  {
   "cell_type": "code",
   "execution_count": 185,
   "metadata": {},
   "outputs": [
    {
     "data": {
      "text/plain": [
       "131"
      ]
     },
     "execution_count": 185,
     "metadata": {},
     "output_type": "execute_result"
    }
   ],
   "source": [
    "no_of_iter_stoch_boston"
   ]
  },
  {
   "cell_type": "code",
   "execution_count": 187,
   "metadata": {},
   "outputs": [],
   "source": [
    "(theta_batch_boston, no_of_iter_batch_boston) = batch_gradient(X_train, Y_train)"
   ]
  },
  {
   "cell_type": "code",
   "execution_count": 188,
   "metadata": {},
   "outputs": [
    {
     "data": {
      "text/plain": [
       "array([[22.51551621],\n",
       "       [-0.94688151],\n",
       "       [ 1.15301137],\n",
       "       [ 0.12216097],\n",
       "       [ 0.97736386],\n",
       "       [-1.89125407],\n",
       "       [ 2.84719689],\n",
       "       [ 0.11738463],\n",
       "       [-3.11294438],\n",
       "       [ 2.19551886],\n",
       "       [-1.75202206],\n",
       "       [-1.98813683],\n",
       "       [ 0.81193309],\n",
       "       [-3.88052806]])"
      ]
     },
     "execution_count": 188,
     "metadata": {},
     "output_type": "execute_result"
    }
   ],
   "source": [
    "theta_batch_boston"
   ]
  },
  {
   "cell_type": "code",
   "execution_count": 189,
   "metadata": {},
   "outputs": [
    {
     "data": {
      "text/plain": [
       "9373"
      ]
     },
     "execution_count": 189,
     "metadata": {},
     "output_type": "execute_result"
    }
   ],
   "source": [
    "no_of_iter_batch_boston"
   ]
  },
  {
   "cell_type": "code",
   "execution_count": 192,
   "metadata": {},
   "outputs": [],
   "source": [
    "lgr = linear_model.LinearRegression()"
   ]
  },
  {
   "cell_type": "code",
   "execution_count": 193,
   "metadata": {},
   "outputs": [
    {
     "data": {
      "text/plain": [
       "LinearRegression(copy_X=True, fit_intercept=True, n_jobs=None,\n",
       "         normalize=False)"
      ]
     },
     "execution_count": 193,
     "metadata": {},
     "output_type": "execute_result"
    }
   ],
   "source": [
    "lgr.fit(X_train, Y_train)"
   ]
  },
  {
   "cell_type": "code",
   "execution_count": 194,
   "metadata": {},
   "outputs": [
    {
     "data": {
      "text/plain": [
       "array([22.51550792])"
      ]
     },
     "execution_count": 194,
     "metadata": {},
     "output_type": "execute_result"
    }
   ],
   "source": [
    "lgr.intercept_"
   ]
  },
  {
   "cell_type": "code",
   "execution_count": 195,
   "metadata": {},
   "outputs": [
    {
     "data": {
      "text/plain": [
       "array([[-0.9470697 ,  1.1533543 ,  0.12333316,  0.97719701, -1.89149221,\n",
       "         2.84695099,  0.11769256, -3.11269112,  2.19851778, -1.75527183,\n",
       "        -1.98828721,  0.81201422, -3.88074667]])"
      ]
     },
     "execution_count": 195,
     "metadata": {},
     "output_type": "execute_result"
    }
   ],
   "source": [
    "lgr.coef_"
   ]
  },
  {
   "cell_type": "code",
   "execution_count": null,
   "metadata": {},
   "outputs": [],
   "source": []
  }
 ],
 "metadata": {
  "kernelspec": {
   "display_name": "Python 3",
   "language": "python",
   "name": "python3"
  },
  "language_info": {
   "codemirror_mode": {
    "name": "ipython",
    "version": 3
   },
   "file_extension": ".py",
   "mimetype": "text/x-python",
   "name": "python",
   "nbconvert_exporter": "python",
   "pygments_lexer": "ipython3",
   "version": "3.6.8rc1"
  }
 },
 "nbformat": 4,
 "nbformat_minor": 2
}
