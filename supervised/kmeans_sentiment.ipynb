{
 "cells": [
  {
   "cell_type": "code",
   "execution_count": 1,
   "metadata": {},
   "outputs": [],
   "source": [
    "comments = [\"good movie\", \"excellent\", \"not bad\", \"nothing is there\", \"worst movie\", \"dont see it\"]"
   ]
  },
  {
   "cell_type": "code",
   "execution_count": 8,
   "metadata": {},
   "outputs": [],
   "source": [
    "# First tokenize the data"
   ]
  },
  {
   "cell_type": "code",
   "execution_count": 2,
   "metadata": {},
   "outputs": [],
   "source": [
    "from nltk.tokenize import TreebankWordTokenizer"
   ]
  },
  {
   "cell_type": "code",
   "execution_count": 18,
   "metadata": {},
   "outputs": [],
   "source": [
    "tokenized_comments = [ \" \".join(TreebankWordTokenizer().tokenize(item)) for item in comments]"
   ]
  },
  {
   "cell_type": "markdown",
   "metadata": {},
   "source": [
    "# normalize the data"
   ]
  },
  {
   "cell_type": "code",
   "execution_count": 10,
   "metadata": {},
   "outputs": [],
   "source": [
    "from nltk.stem import PorterStemmer"
   ]
  },
  {
   "cell_type": "code",
   "execution_count": 24,
   "metadata": {},
   "outputs": [],
   "source": [
    "stemmed_comments = [PorterStemmer().stem(item) for item in tokenized_comments]"
   ]
  },
  {
   "cell_type": "code",
   "execution_count": 28,
   "metadata": {},
   "outputs": [],
   "source": [
    "from sklearn.feature_extraction.text import TfidfVectorizer"
   ]
  },
  {
   "cell_type": "code",
   "execution_count": 30,
   "metadata": {},
   "outputs": [],
   "source": [
    "X = TfidfVectorizer().fit_transform(stemmed_comments)"
   ]
  },
  {
   "cell_type": "code",
   "execution_count": 35,
   "metadata": {},
   "outputs": [],
   "source": [
    "X = X.toarray()"
   ]
  },
  {
   "cell_type": "code",
   "execution_count": 39,
   "metadata": {},
   "outputs": [],
   "source": [
    "import numpy as np"
   ]
  },
  {
   "cell_type": "code",
   "execution_count": 77,
   "metadata": {},
   "outputs": [],
   "source": [
    "def kmeans_algorithm(X):\n",
    "    (m,n) = X.shape\n",
    "    centroid1, centroid2 = np.random.rand(1,n), np.random.rand(1,n)\n",
    "    no_of_iterations = 0\n",
    "    \n",
    "    label_mask = None\n",
    "    \n",
    "    while no_of_iterations<=100:\n",
    "        distance1 = np.sum(np.square(X-centroid1), axis=1, keepdims=True)\n",
    "        distance2 = np.sum(np.square(X-centroid2), axis=1, keepdims=True)\n",
    "        \n",
    "        \n",
    "        label_mask = np.argmin(np.hstack([distance1, distance2]), axis=1)\n",
    "        \n",
    "  \n",
    "        class_A = X[label_mask==0]\n",
    "        class_B = X[label_mask==1]\n",
    "        \n",
    "        if class_A.shape[0]>0:\n",
    "            centroid1 = np.mean(class_A, axis=0)\n",
    "            \n",
    "            \n",
    "        if class_B.shape[0]>0:\n",
    "            centroid2 = np.mean(class_B, axis=0)\n",
    "            \n",
    "        no_of_iterations += 1\n",
    "        \n",
    "        \n",
    "    return label_mask"
   ]
  },
  {
   "cell_type": "code",
   "execution_count": 79,
   "metadata": {},
   "outputs": [
    {
     "data": {
      "text/plain": [
       "array([1, 0, 1, 0, 1, 0])"
      ]
     },
     "execution_count": 79,
     "metadata": {},
     "output_type": "execute_result"
    }
   ],
   "source": [
    "kmeans_algorithm(X)"
   ]
  },
  {
   "cell_type": "code",
   "execution_count": 62,
   "metadata": {},
   "outputs": [],
   "source": [
    "?np.argmin"
   ]
  },
  {
   "cell_type": "code",
   "execution_count": null,
   "metadata": {},
   "outputs": [],
   "source": []
  }
 ],
 "metadata": {
  "kernelspec": {
   "display_name": "Python 3",
   "language": "python",
   "name": "python3"
  },
  "language_info": {
   "codemirror_mode": {
    "name": "ipython",
    "version": 3
   },
   "file_extension": ".py",
   "mimetype": "text/x-python",
   "name": "python",
   "nbconvert_exporter": "python",
   "pygments_lexer": "ipython3",
   "version": "3.6.8rc1"
  }
 },
 "nbformat": 4,
 "nbformat_minor": 2
}
