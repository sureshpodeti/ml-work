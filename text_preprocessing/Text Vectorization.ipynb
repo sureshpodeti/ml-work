{
 "cells": [
  {
   "cell_type": "code",
   "execution_count": 16,
   "metadata": {},
   "outputs": [],
   "source": [
    "from sklearn.feature_extraction.text import TfidfVectorizer\n",
    "import numpy as np"
   ]
  },
  {
   "cell_type": "code",
   "execution_count": 27,
   "metadata": {},
   "outputs": [],
   "source": [
    "texts = [\"good movie\", \"not a good movie\", \"did not like\", \"i like it\", \"good\"]"
   ]
  },
  {
   "cell_type": "code",
   "execution_count": 32,
   "metadata": {},
   "outputs": [],
   "source": [
    "tfid = TfidfVectorizer(max_df=.5,\n",
    "    min_df=1, ngram_range=(1, 2)) # considering 1, 2 n grams"
   ]
  },
  {
   "cell_type": "code",
   "execution_count": 33,
   "metadata": {},
   "outputs": [],
   "source": [
    "A = np.asarray(tfid.fit_transform(texts).todense())"
   ]
  },
  {
   "cell_type": "code",
   "execution_count": 34,
   "metadata": {},
   "outputs": [
    {
     "data": {
      "text/plain": [
       "array([[0.        , 0.        , 0.70710678, 0.        , 0.        ,\n",
       "        0.        , 0.70710678, 0.        , 0.        , 0.        ],\n",
       "       [0.        , 0.        , 0.4695148 , 0.        , 0.        ,\n",
       "        0.        , 0.4695148 , 0.4695148 , 0.5819515 , 0.        ],\n",
       "       [0.48214012, 0.48214012, 0.        , 0.        , 0.38898761,\n",
       "        0.        , 0.        , 0.38898761, 0.        , 0.48214012],\n",
       "       [0.        , 0.        , 0.        , 0.61418897, 0.49552379,\n",
       "        0.61418897, 0.        , 0.        , 0.        , 0.        ],\n",
       "       [0.        , 0.        , 0.        , 0.        , 0.        ,\n",
       "        0.        , 0.        , 0.        , 0.        , 0.        ]])"
      ]
     },
     "execution_count": 34,
     "metadata": {},
     "output_type": "execute_result"
    }
   ],
   "source": [
    "A"
   ]
  }
 ],
 "metadata": {
  "kernelspec": {
   "display_name": "Python 3",
   "language": "python",
   "name": "python3"
  },
  "language_info": {
   "codemirror_mode": {
    "name": "ipython",
    "version": 3
   },
   "file_extension": ".py",
   "mimetype": "text/x-python",
   "name": "python",
   "nbconvert_exporter": "python",
   "pygments_lexer": "ipython3",
   "version": "3.6.8rc1"
  }
 },
 "nbformat": 4,
 "nbformat_minor": 2
}
