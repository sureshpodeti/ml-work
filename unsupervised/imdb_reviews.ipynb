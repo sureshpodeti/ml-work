{
 "cells": [
  {
   "cell_type": "code",
   "execution_count": 1,
   "metadata": {},
   "outputs": [],
   "source": [
    "import pandas as pd"
   ]
  },
  {
   "cell_type": "code",
   "execution_count": 2,
   "metadata": {},
   "outputs": [],
   "source": [
    "df = pd.read_csv('imdb_master.csv', encoding='latin-1')"
   ]
  },
  {
   "cell_type": "code",
   "execution_count": 3,
   "metadata": {},
   "outputs": [
    {
     "data": {
      "text/html": [
       "<div>\n",
       "<style scoped>\n",
       "    .dataframe tbody tr th:only-of-type {\n",
       "        vertical-align: middle;\n",
       "    }\n",
       "\n",
       "    .dataframe tbody tr th {\n",
       "        vertical-align: top;\n",
       "    }\n",
       "\n",
       "    .dataframe thead th {\n",
       "        text-align: right;\n",
       "    }\n",
       "</style>\n",
       "<table border=\"1\" class=\"dataframe\">\n",
       "  <thead>\n",
       "    <tr style=\"text-align: right;\">\n",
       "      <th></th>\n",
       "      <th>Unnamed: 0</th>\n",
       "      <th>type</th>\n",
       "      <th>review</th>\n",
       "      <th>label</th>\n",
       "      <th>file</th>\n",
       "    </tr>\n",
       "  </thead>\n",
       "  <tbody>\n",
       "    <tr>\n",
       "      <th>0</th>\n",
       "      <td>0</td>\n",
       "      <td>test</td>\n",
       "      <td>Once again Mr. Costner has dragged out a movie...</td>\n",
       "      <td>neg</td>\n",
       "      <td>0_2.txt</td>\n",
       "    </tr>\n",
       "    <tr>\n",
       "      <th>1</th>\n",
       "      <td>1</td>\n",
       "      <td>test</td>\n",
       "      <td>This is an example of why the majority of acti...</td>\n",
       "      <td>neg</td>\n",
       "      <td>10000_4.txt</td>\n",
       "    </tr>\n",
       "    <tr>\n",
       "      <th>2</th>\n",
       "      <td>2</td>\n",
       "      <td>test</td>\n",
       "      <td>First of all I hate those moronic rappers, who...</td>\n",
       "      <td>neg</td>\n",
       "      <td>10001_1.txt</td>\n",
       "    </tr>\n",
       "    <tr>\n",
       "      <th>3</th>\n",
       "      <td>3</td>\n",
       "      <td>test</td>\n",
       "      <td>Not even the Beatles could write songs everyon...</td>\n",
       "      <td>neg</td>\n",
       "      <td>10002_3.txt</td>\n",
       "    </tr>\n",
       "    <tr>\n",
       "      <th>4</th>\n",
       "      <td>4</td>\n",
       "      <td>test</td>\n",
       "      <td>Brass pictures (movies is not a fitting word f...</td>\n",
       "      <td>neg</td>\n",
       "      <td>10003_3.txt</td>\n",
       "    </tr>\n",
       "  </tbody>\n",
       "</table>\n",
       "</div>"
      ],
      "text/plain": [
       "   Unnamed: 0  type                                             review label  \\\n",
       "0           0  test  Once again Mr. Costner has dragged out a movie...   neg   \n",
       "1           1  test  This is an example of why the majority of acti...   neg   \n",
       "2           2  test  First of all I hate those moronic rappers, who...   neg   \n",
       "3           3  test  Not even the Beatles could write songs everyon...   neg   \n",
       "4           4  test  Brass pictures (movies is not a fitting word f...   neg   \n",
       "\n",
       "          file  \n",
       "0      0_2.txt  \n",
       "1  10000_4.txt  \n",
       "2  10001_1.txt  \n",
       "3  10002_3.txt  \n",
       "4  10003_3.txt  "
      ]
     },
     "execution_count": 3,
     "metadata": {},
     "output_type": "execute_result"
    }
   ],
   "source": [
    "df.head()"
   ]
  },
  {
   "cell_type": "code",
   "execution_count": 4,
   "metadata": {},
   "outputs": [],
   "source": [
    "df_test = df[df[\"type\"]==\"test\"]"
   ]
  },
  {
   "cell_type": "code",
   "execution_count": 5,
   "metadata": {},
   "outputs": [
    {
     "data": {
      "text/plain": [
       "(25000, 5)"
      ]
     },
     "execution_count": 5,
     "metadata": {},
     "output_type": "execute_result"
    }
   ],
   "source": [
    "df_test.shape"
   ]
  },
  {
   "cell_type": "code",
   "execution_count": 6,
   "metadata": {},
   "outputs": [],
   "source": [
    "df_train = df[df[\"type\"]==\"train\"] "
   ]
  },
  {
   "cell_type": "code",
   "execution_count": 7,
   "metadata": {},
   "outputs": [
    {
     "data": {
      "text/plain": [
       "(75000, 5)"
      ]
     },
     "execution_count": 7,
     "metadata": {},
     "output_type": "execute_result"
    }
   ],
   "source": [
    "df_train.shape"
   ]
  },
  {
   "cell_type": "code",
   "execution_count": 8,
   "metadata": {},
   "outputs": [],
   "source": [
    "X_train = df_train[[\"review\"]].values\n",
    "Y_train = df_train[[\"label\"]].values"
   ]
  },
  {
   "cell_type": "code",
   "execution_count": 9,
   "metadata": {},
   "outputs": [
    {
     "data": {
      "text/plain": [
       "(75000, 1)"
      ]
     },
     "execution_count": 9,
     "metadata": {},
     "output_type": "execute_result"
    }
   ],
   "source": [
    "X_train.shape"
   ]
  },
  {
   "cell_type": "code",
   "execution_count": 10,
   "metadata": {},
   "outputs": [],
   "source": [
    "X_test = df_test[[\"review\"]].values\n",
    "Y_test = df_test[[\"label\"]].values"
   ]
  },
  {
   "cell_type": "code",
   "execution_count": 11,
   "metadata": {},
   "outputs": [
    {
     "data": {
      "text/plain": [
       "(25000, 1)"
      ]
     },
     "execution_count": 11,
     "metadata": {},
     "output_type": "execute_result"
    }
   ],
   "source": [
    "X_test.shape"
   ]
  },
  {
   "cell_type": "markdown",
   "metadata": {},
   "source": [
    "# feature extraction"
   ]
  },
  {
   "cell_type": "code",
   "execution_count": 12,
   "metadata": {},
   "outputs": [],
   "source": [
    "from nltk import TreebankWordTokenizer\n",
    "from nltk.stem import PorterStemmer, WordNetLemmatizer"
   ]
  },
  {
   "cell_type": "code",
   "execution_count": 13,
   "metadata": {},
   "outputs": [],
   "source": [
    "tb_tokenizer = TreebankWordTokenizer()"
   ]
  },
  {
   "cell_type": "code",
   "execution_count": 14,
   "metadata": {},
   "outputs": [
    {
     "data": {
      "text/plain": [
       "\"Story of a man who has unnatural feelings for a pig. Starts out with a opening scene that is a terrific example of absurd comedy. A formal orchestra audience is turned into an insane, violent mob by the crazy chantings of it's singers. Unfortunately it stays absurd the WHOLE time with no general narrative eventually making it just too off putting. Even those from the era should be turned off. The cryptic dialogue would make Shakespeare seem easy to a third grader. On a technical level it's better than you might think with some good cinematography by future great Vilmos Zsigmond. Future stars Sally Kirkland and Frederic Forrest can be seen briefly.\""
      ]
     },
     "execution_count": 14,
     "metadata": {},
     "output_type": "execute_result"
    }
   ],
   "source": [
    "X_train[0][0]"
   ]
  },
  {
   "cell_type": "code",
   "execution_count": 15,
   "metadata": {},
   "outputs": [],
   "source": [
    "def tokenizer(txt):\n",
    "    tb_tokenizer = TreebankWordTokenizer()\n",
    "    return tb_tokenizer.tokenize(txt)"
   ]
  },
  {
   "cell_type": "code",
   "execution_count": 16,
   "metadata": {},
   "outputs": [],
   "source": [
    "def stemming(tokens):\n",
    "    porter_stem = PorterStemmer()\n",
    "    return \" \".join(porter_stem.stem(token) for token in tokens)"
   ]
  },
  {
   "cell_type": "code",
   "execution_count": 17,
   "metadata": {},
   "outputs": [],
   "source": [
    "def lemmatization(tokens):\n",
    "    lem = WordNetLemmatizer()\n",
    "    return \" \".join(lem.lemmatize(token) for token in tokens)"
   ]
  },
  {
   "cell_type": "code",
   "execution_count": 18,
   "metadata": {},
   "outputs": [],
   "source": [
    "def text_preprocess(txt, lemma=False):\n",
    "    tokens = tokenizer(txt)\n",
    "    if not lemma:\n",
    "        return stemming(tokens)\n",
    "    else:\n",
    "        return lemmatization(tokens)"
   ]
  },
  {
   "cell_type": "code",
   "execution_count": 19,
   "metadata": {},
   "outputs": [],
   "source": [
    "txt = \"Story of a man who has unnatural feelings for a pig. Starts out with a opening scene that is a terrific example of absurd comedy. A formal orchestra audience is turned into an insane, violent mob by the crazy chantings of it's singers. Unfortunately it stays absurd the WHOLE time with no general narrative eventually making it just too off putting. Even those from the era should be turned off. The cryptic dialogue would make Shakespeare seem easy to a third grader. On a technical level it's better than you might think with some good cinematography by future great Vilmos Zsigmond. Future stars Sally Kirkland and Frederic Forrest can be seen briefly.\""
   ]
  },
  {
   "cell_type": "code",
   "execution_count": 20,
   "metadata": {},
   "outputs": [
    {
     "data": {
      "text/plain": [
       "\"stori of a man who ha unnatur feel for a pig. start out with a open scene that is a terrif exampl of absurd comedy. A formal orchestra audienc is turn into an insan , violent mob by the crazi chant of it 's singers. unfortun it stay absurd the whole time with no gener narr eventu make it just too off putting. even those from the era should be turn off. the cryptic dialogu would make shakespear seem easi to a third grader. On a technic level it 's better than you might think with some good cinematographi by futur great vilmo zsigmond. futur star salli kirkland and freder forrest can be seen briefli .\""
      ]
     },
     "execution_count": 20,
     "metadata": {},
     "output_type": "execute_result"
    }
   ],
   "source": [
    "text_preprocess(txt)"
   ]
  },
  {
   "cell_type": "code",
   "execution_count": 21,
   "metadata": {},
   "outputs": [
    {
     "data": {
      "text/plain": [
       "\"Story of a man who ha unnatural feeling for a pig. Starts out with a opening scene that is a terrific example of absurd comedy. A formal orchestra audience is turned into an insane , violent mob by the crazy chanting of it 's singers. Unfortunately it stay absurd the WHOLE time with no general narrative eventually making it just too off putting. Even those from the era should be turned off. The cryptic dialogue would make Shakespeare seem easy to a third grader. On a technical level it 's better than you might think with some good cinematography by future great Vilmos Zsigmond. Future star Sally Kirkland and Frederic Forrest can be seen briefly .\""
      ]
     },
     "execution_count": 21,
     "metadata": {},
     "output_type": "execute_result"
    }
   ],
   "source": [
    "text_preprocess(txt, True)"
   ]
  },
  {
   "cell_type": "code",
   "execution_count": 22,
   "metadata": {},
   "outputs": [],
   "source": [
    "m = X_train.shape[0]"
   ]
  },
  {
   "cell_type": "code",
   "execution_count": 23,
   "metadata": {},
   "outputs": [],
   "source": [
    "for i in range(m):\n",
    "    txt = X_train[i][0] \n",
    "    X_train[i][0] = text_preprocess(txt)"
   ]
  },
  {
   "cell_type": "code",
   "execution_count": 24,
   "metadata": {},
   "outputs": [],
   "source": [
    "from sklearn.feature_extraction.text import TfidfVectorizer\n",
    "import numpy as np"
   ]
  },
  {
   "cell_type": "code",
   "execution_count": 25,
   "metadata": {},
   "outputs": [],
   "source": [
    "tfidf = TfidfVectorizer(max_df=.5, min_df=1, ngram_range=(1,2))"
   ]
  },
  {
   "cell_type": "code",
   "execution_count": 26,
   "metadata": {},
   "outputs": [],
   "source": [
    "A = np.asarray(tfidf.fit_transform(X_train.ravel()).todense())"
   ]
  },
  {
   "cell_type": "code",
   "execution_count": 32,
   "metadata": {},
   "outputs": [
    {
     "data": {
      "text/plain": [
       "4.799198059916133e-06"
      ]
     },
     "execution_count": 32,
     "metadata": {},
     "output_type": "execute_result"
    }
   ],
   "source": [
    "A[23476].mean(axi)"
   ]
  },
  {
   "cell_type": "code",
   "execution_count": 28,
   "metadata": {},
   "outputs": [
    {
     "data": {
      "text/plain": [
       "array([[\"stori of a man who ha unnatur feel for a pig. start out with a open scene that is a terrif exampl of absurd comedy. A formal orchestra audienc is turn into an insan , violent mob by the crazi chant of it 's singers. unfortun it stay absurd the whole time with no gener narr eventu make it just too off putting. even those from the era should be turn off. the cryptic dialogu would make shakespear seem easi to a third grader. On a technic level it 's better than you might think with some good cinematographi by futur great vilmo zsigmond. futur star salli kirkland and freder forrest can be seen briefli .\"],\n",
       "       [\"airport '77 start as a brand new luxuri 747 plane is load up with valuabl paint & such belong to rich businessman philip steven ( jame stewart ) who is fli them & a bunch of vip 's to hi estat in prepar of it be open to the public as a museum , also on board is steven daughter juli ( kathleen quinlan ) & her son. the luxuri jetlin take off as plan but mid-air the plane is hi-jack by the co-pilot chamber ( robert foxworth ) & hi two accomplic 's banker ( mont markham ) & wilson ( michael pataki ) who knock the passeng & crew out with sleep ga , they plan to steal the valuabl cargo & land on a disus plane strip on an isol island but while make hi descent chamber almost hit an oil rig in the ocean & lose control of the plane send it crash into the sea where it sink to the bottom right bang in the middl of the bermuda triangle. with air in short suppli , water leak in & have flown over 200 mile off cours the problem mount for the survivor 's as they await help with time fast run out ... < br / > < br / > also known under the slightli differ tile airport 1977 thi second sequel to the smash-hit disast thriller airport ( 1970 ) wa direct by jerri jameson & while onc again like it 's predecessor I ca n't say airport '77 is ani sort of forgotten classic it is entertain although not necessarili for the right reasons. out of the three airport film I have seen so far I actual like thi one the best , just. It ha my favourit plot of the three with a nice mid-air hi-jack & then the crash ( did n't he see the oil rig ? ) & sink of the 747 ( mayb the maker were tri to cross the origin airport with anoth popular disast flick of the period the poseidon adventur ( 1972 ) ) & submerg is where it stay until the end with a stark dilemma face those trap insid , either suffoc when the air run out or drown as the 747 flood or if ani of the door are open & it 's a decent idea that could have made for a great littl disast flick but bad unsympathet charact 's , dull dialogu , letharg set-piec & a real lack of danger or suspens or tension mean thi is a miss opportunity. while the rather sluggish plot keep one entertain for 108 odd minut not that much happen after the plane sink & there 's not as much urgenc as I thought there should have been. even when the navi becom involv thing do n't pick up that much with a few shot of huge ship & helicopt fli about but there 's just someth lack here. georg kennedi as the jinx airlin worker joe patroni is back but onli get a coupl of scene & bare even say anyth prefer to just look worri in the background. < br / > < br / > the home video & theatric version of airport '77 run 108 minut while the US TV version add an extra hour of footag includ a new open credit sequenc , mani more scene with georg kennedi as patroni , flashback to flesh out charact 's , longer rescu scene & the discoveri or anoth coupl of dead bodi includ the navigator. while I would like to see thi extra footag I am not sure I could sit through a near three hour cut of airport '77. As expect the film ha date badli with horribl fashion & interior design choic , I will say no more other than the toy plane model effect are n't great either. along with the other two airport sequel thi take pride of place in the razzi award 's hall of shame although I can think of lot of wors film than thi so I reckon that 's a littl harsh. the action scene are a littl dull unfortun , the pace is slow & not much excit or tension is gener which is a shame as I reckon thi could have been a pretti good film if made properly. < br / > < br / > the product valu are alright if noth spectacular. the act is n't great , two time oscar winner jack lemmon ha said sinc it wa a mistak to star in thi , one time oscar winner jame stewart look old & frail , also one time oscar winner lee grant look drunk while sir christoph lee is given littl to do & there are plenti of other familiar face to look out for too. < br / > < br / > airport '77 is the most disast orient of the three airport film so far & I like the idea behind it even if they were a bit silli , the product & bland direct doe n't help though & a film about a sunken plane just should n't be thi bore or lethargic. follow by the concord ... airport '79 ( 1979 ) .\"],\n",
       "       [\"thi film lack someth I could n't put my finger on at first : charisma on the part of the lead actress. thi inevit translat to lack of chemistri when she share the screen with her lead man. even the romant scene came across as be mere the actor at play. It could veri well have been the director who miscalcul what he need from the actors. I just do n't know. < br / > < br / > but could it have been the screenplay ? just exactli who wa the chef in love with ? He seem more enamor of hi culinari skill and restaur , and ultim of himself and hi youth exploit , than of anybodi or anyth else. He never convinc me he wa in love with the princess. < br / > < br / > I wa disappoint in thi movie. but , do n't forget it wa nomin for an oscar , so judg for yourself .\"],\n",
       "       ...,\n",
       "       [\"At the begin we can see member of troma team compani and uwe boll say `` thi is bad , it 's a big s*** , do n't watch it , do n't even think about it , stay away from thi movi '' , now we are warn ... < br / > < br / > but they are wrong , the film is brilliant. OK it have a lot bad thing like : no budget ( of cours ) , no good act , no fanci FX , no good locat , no good edit , no good sound ... ..etc In fact , in all technic aspect , the film is bad , but that 's not a surprise. but when you watch zombiegeddon a lot of thi disappear or make the film pretti funny. and that 's the power of thi movi , the film is fun , good fun. becaus it 's not an annoy and bore movi , no that 's more a good horror/comedi , between `` shawn of the dead '' and `` an Ed wood movi '' . and that 's realli enjoy to see a movi like that make you smile at least 75 % of the time. the movi is realli cool. great troma movi !\"],\n",
       "       [\"the movi wa incred , ever sinc I saw it in 1977 I told my wife she had to see it , it wa realli funny. right up there with the `` in-laws. '' As soon as it came out on video we would watch it. well , 20 year later , and everi time I ask in a video store they give me a funni look. doe anyon have ani clue how thi classic can be view ? ? ? `` pleas help ''\"],\n",
       "       [\"tcm came through by acquir thi wonder , silent , comedy/drama for television. until recent it had been lock away in an achiev somewhere. It premier on TV for the 1st time sinc it theatric releas in 1927. two american fight in world war I ( william boyd and loui wolheim ) are hide in a defens posit with german soldier advancing. they howev are fight with each other and work the nerv of one-an-other. they of cours are caught , but after an invent escap they are taken on a whirlwind adventur in arabia , with all the humor you might find in an abbott and costello movie. veri funni and sometim even touching. A great silent pictur and winner of an academi award for `` best comedi direct '' . direct by lewi mileston .\"]],\n",
       "      dtype=object)"
      ]
     },
     "execution_count": 28,
     "metadata": {},
     "output_type": "execute_result"
    }
   ],
   "source": [
    "X_train"
   ]
  },
  {
   "cell_type": "code",
   "execution_count": null,
   "metadata": {},
   "outputs": [],
   "source": []
  }
 ],
 "metadata": {
  "kernelspec": {
   "display_name": "Python 3",
   "language": "python",
   "name": "python3"
  },
  "language_info": {
   "codemirror_mode": {
    "name": "ipython",
    "version": 3
   },
   "file_extension": ".py",
   "mimetype": "text/x-python",
   "name": "python",
   "nbconvert_exporter": "python",
   "pygments_lexer": "ipython3",
   "version": "3.6.8rc1"
  }
 },
 "nbformat": 4,
 "nbformat_minor": 2
}
