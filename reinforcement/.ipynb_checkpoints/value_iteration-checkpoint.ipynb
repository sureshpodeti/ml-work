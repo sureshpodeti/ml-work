{
 "cells": [
  {
   "cell_type": "markdown",
   "metadata": {},
   "source": [
    "# Value iteration "
   ]
  },
  {
   "cell_type": "markdown",
   "metadata": {},
   "source": [
    "Algorithm:\n",
    "    1. For each state s, initialize V(s) := 0\n",
    "    2. Repeat until convergence {\n",
    "        For every state, \n",
    "        update,V(s) := R(s) + max gamma* Σ Psa(s')V(s')\n",
    "                              a∈A        s'\n",
    "       }\n",
    "       \n",
    "    V(s) ----> V*(s)  until convergence\n",
    "         <----    "
   ]
  },
  {
   "cell_type": "markdown",
   "metadata": {},
   "source": [
    "Problem:\n",
    "    Grid World of 2*2, 4 states\n",
    "    Rewards = { \n",
    "                     1 , cell (2,2)\n",
    "                    -1, cell(2,1)\n",
    "                    -0.02, for other cells \n",
    "        \n",
    "    }\n",
    "    \n",
    "    Actions = {North, East, South, West}\n",
    "    \n",
    "    Transition probabilities:\n",
    "    \n",
    "                   ^ N  .8\n",
    "                   |\n",
    "                 ----\n",
    "           .1    |  |    .1\n",
    "                 ----\n",
    "                 \n",
    "     discount factor: gamma = .9 ( 0<=gamma<1"
   ]
  },
  {
   "cell_type": "code",
   "execution_count": 1,
   "metadata": {},
   "outputs": [],
   "source": [
    "import mdptoolbox\n",
    "import numpy as np"
   ]
  },
  {
   "cell_type": "code",
   "execution_count": 2,
   "metadata": {},
   "outputs": [],
   "source": [
    "# transition probabilities ; list of (s,s) with length A\n",
    "P = [np.array([[.9, 0, 0, .1], [.8, .1, .1, 0], [0, .1, .1, .8], [.1, 0, 0, .9]]), \n",
    "     np.array([[.1, .1, 0, .8], [.1, .1, .8, 0], [0, 0, .9, .1], [0, 0, .1, .9]]),\n",
    "     np.array([[.1, .8, 0, .1], [0, .9, .1, 0], [0, .1, .9, 0], [.1, 0, .8, .1]]),\n",
    "     np.array([[.9, .1, 0, 0], [.1, .9, 0, 0], [0, .8, .1, .1], [.8, 0, .1, .1]])\n",
    "    ]\n"
   ]
  },
  {
   "cell_type": "code",
   "execution_count": 3,
   "metadata": {},
   "outputs": [],
   "source": [
    "# Reward function; (S,A)\n",
    "R = np.array([\n",
    "    [-1, -1, -1, -1],\n",
    "    [-.02,-.02, -.02, -.02],\n",
    "    [-.02,-.02, -.02, -.02],\n",
    "    [1, 1, 1, 1]\n",
    "])"
   ]
  },
  {
   "cell_type": "code",
   "execution_count": 4,
   "metadata": {},
   "outputs": [],
   "source": [
    "mdp = mdptoolbox.mdp.ValueIteration(P, R, 0.9)"
   ]
  },
  {
   "cell_type": "code",
   "execution_count": 5,
   "metadata": {},
   "outputs": [],
   "source": [
    "mdp.run()"
   ]
  },
  {
   "cell_type": "code",
   "execution_count": 6,
   "metadata": {},
   "outputs": [
    {
     "data": {
      "text/plain": [
       "(1, 1, 0, 1)"
      ]
     },
     "execution_count": 6,
     "metadata": {},
     "output_type": "execute_result"
    }
   ],
   "source": [
    "mdp.policy"
   ]
  },
  {
   "cell_type": "code",
   "execution_count": 7,
   "metadata": {},
   "outputs": [
    {
     "data": {
      "text/plain": [
       "8"
      ]
     },
     "execution_count": 7,
     "metadata": {},
     "output_type": "execute_result"
    }
   ],
   "source": [
    "mdp.iter"
   ]
  },
  {
   "cell_type": "code",
   "execution_count": 8,
   "metadata": {},
   "outputs": [
    {
     "data": {
      "text/plain": [
       "(2.8476633693235622, 2.951517863010328, 3.9245864416108382, 5.141640564874254)"
      ]
     },
     "execution_count": 8,
     "metadata": {},
     "output_type": "execute_result"
    }
   ],
   "source": [
    "mdp.V"
   ]
  },
  {
   "cell_type": "code",
   "execution_count": null,
   "metadata": {},
   "outputs": [],
   "source": []
  }
 ],
 "metadata": {
  "kernelspec": {
   "display_name": "Python 3",
   "language": "python",
   "name": "python3"
  },
  "language_info": {
   "codemirror_mode": {
    "name": "ipython",
    "version": 3
   },
   "file_extension": ".py",
   "mimetype": "text/x-python",
   "name": "python",
   "nbconvert_exporter": "python",
   "pygments_lexer": "ipython3",
   "version": "3.6.8rc1"
  }
 },
 "nbformat": 4,
 "nbformat_minor": 2
}
