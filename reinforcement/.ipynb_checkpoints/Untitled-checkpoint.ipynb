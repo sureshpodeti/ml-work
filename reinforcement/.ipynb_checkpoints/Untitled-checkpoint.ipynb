{
 "cells": [
  {
   "cell_type": "code",
   "execution_count": 3,
   "metadata": {},
   "outputs": [],
   "source": [
    "import mdptoolbox\n",
    "import numpy as np"
   ]
  },
  {
   "cell_type": "code",
   "execution_count": 4,
   "metadata": {},
   "outputs": [],
   "source": [
    "# Transition probabilities, List of (S,S) of size A\n",
    "\n",
    "P = [\n",
    "    np.array([[.9, .1, 0, 0], [.1, .9, 0, 0], [0, .8, .1, .1], [.8, 0, .1, .1]]),\n",
    "    \n",
    "    np.array([[.1, .8, 0, .1], [0, .9, .1, 0], [0, .1, .9, 0], [.1, 0, .8, .1]]),\n",
    "     \n",
    "    np.array([[.1, .1, 0, .8], [.1, .1, .8, 0], [0, 0, .9, .1], [0, 0, .1, .9]]),\n",
    "     \n",
    "    np.array([[.9, 0, 0, .1], [.8, .1, .1, 0], [0, .1, .1, .8], [.1, 0, 0, .9]])\n",
    "    ]"
   ]
  },
  {
   "cell_type": "code",
   "execution_count": 5,
   "metadata": {},
   "outputs": [],
   "source": [
    "# Rewards function, (S,A)\n",
    "R = np.array([\n",
    "    [-.02, -.02, -.02, -.02],\n",
    "    [-.02, -.02, -.02, -.02],\n",
    "    [-1, -1, -1, -1],\n",
    "    [1, 1, 1, 1]\n",
    "])"
   ]
  },
  {
   "cell_type": "code",
   "execution_count": 7,
   "metadata": {},
   "outputs": [],
   "source": [
    "value_iter = mdptoolbox.mdp.ValueIteration(P, R, .9)"
   ]
  },
  {
   "cell_type": "code",
   "execution_count": 8,
   "metadata": {},
   "outputs": [],
   "source": [
    "value_iter.run()"
   ]
  },
  {
   "cell_type": "code",
   "execution_count": 11,
   "metadata": {},
   "outputs": [
    {
     "data": {
      "text/plain": [
       "(2, 3, 3, 3)"
      ]
     },
     "execution_count": 11,
     "metadata": {},
     "output_type": "execute_result"
    }
   ],
   "source": [
    "value_iter.policy"
   ]
  },
  {
   "cell_type": "code",
   "execution_count": 12,
   "metadata": {},
   "outputs": [],
   "source": [
    "policy_iter = mdptoolbox.mdp.PolicyIteration(P, R, .9)"
   ]
  },
  {
   "cell_type": "code",
   "execution_count": 13,
   "metadata": {},
   "outputs": [],
   "source": [
    "policy_iter.run()"
   ]
  },
  {
   "cell_type": "code",
   "execution_count": 14,
   "metadata": {},
   "outputs": [
    {
     "data": {
      "text/plain": [
       "(2, 3, 3, 3)"
      ]
     },
     "execution_count": 14,
     "metadata": {},
     "output_type": "execute_result"
    }
   ],
   "source": [
    "policy_iter.policy"
   ]
  },
  {
   "cell_type": "code",
   "execution_count": null,
   "metadata": {},
   "outputs": [],
   "source": []
  }
 ],
 "metadata": {
  "kernelspec": {
   "display_name": "Python 3",
   "language": "python",
   "name": "python3"
  },
  "language_info": {
   "codemirror_mode": {
    "name": "ipython",
    "version": 3
   },
   "file_extension": ".py",
   "mimetype": "text/x-python",
   "name": "python",
   "nbconvert_exporter": "python",
   "pygments_lexer": "ipython3",
   "version": "3.6.8rc1"
  }
 },
 "nbformat": 4,
 "nbformat_minor": 2
}
