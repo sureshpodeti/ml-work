{
 "cells": [
  {
   "cell_type": "markdown",
   "metadata": {},
   "source": [
    "# Policy Iteration"
   ]
  },
  {
   "cell_type": "markdown",
   "metadata": {},
   "source": [
    "Algorithm:\n",
    "    1. Initialize the Policy π randomly\n",
    "    2. Repeat until convergence {\n",
    "        (a) Let V := V π\n",
    "        (b) For each state s, let π(s) := arg maxa∈A 􏰉s′ Psa(s′)V (s′)\n",
    "    }"
   ]
  },
  {
   "cell_type": "markdown",
   "metadata": {},
   "source": [
    "Here, it involves solving system of linear equations to get Value functions."
   ]
  },
  {
   "cell_type": "markdown",
   "metadata": {},
   "source": [
    "<html><head>\n",
    "\n",
    "\n",
    "<!-- Load require.js. Delete this if your page already loads require.js -->\n",
    "<script src=\"https://cdnjs.cloudflare.com/ajax/libs/require.js/2.3.4/require.min.js\" integrity=\"sha256-Ae2Vz/4ePdIu6ZyI/5ZGsYnb+m0JlOmKPjt6XZ9JJkA=\" crossorigin=\"anonymous\"></script>\n",
    "<script src=\"https://unpkg.com/@jupyter-widgets/html-manager@*/dist/embed-amd.js\" crossorigin=\"anonymous\"></script>\n",
    "<script type=\"application/vnd.jupyter.widget-state+json\">\n",
    "{\n",
    "    \"version_major\": 2,\n",
    "    \"version_minor\": 0,\n",
    "    \"state\": {}\n",
    "}\n",
    "</script>\n",
    "</head>\n",
    "<body>\n",
    "\n",
    "\n",
    "</body>\n",
    "</html>\n"
   ]
  },
  {
   "cell_type": "markdown",
   "metadata": {},
   "source": [
    "π  -------> V\n",
    "   <------\n",
    "\n",
    "On convergence, π* -> V*"
   ]
  },
  {
   "cell_type": "markdown",
   "metadata": {},
   "source": [
    "Problem: Grid World of 2*2, 4 states\n",
    "Rewards = { \n",
    "                 1 , cell (2,2)\n",
    "                -1, cell(2,1)\n",
    "                -0.02, for other cells \n",
    "\n",
    "}\n",
    "\n",
    "Actions = {North, East, South, West}\n",
    "\n",
    "Transition probabilities:\n",
    "\n",
    "               ^ N  .8\n",
    "               |\n",
    "             ----\n",
    "       .1    |  |    .1\n",
    "             ----\n",
    "\n",
    " discount factor: gamma = .9 ( 0<=gamma<1\n",
    "\n",
    "\n"
   ]
  },
  {
   "cell_type": "code",
   "execution_count": 4,
   "metadata": {},
   "outputs": [],
   "source": [
    "import mdptoolbox\n",
    "import numpy as np"
   ]
  },
  {
   "cell_type": "code",
   "execution_count": 5,
   "metadata": {},
   "outputs": [],
   "source": [
    "# transition probabilities ; list of (s,s) with length A\n",
    "P = [np.array([[.9, 0, 0, .1], [.8, .1, .1, 0], [0, .1, .1, .8], [.1, 0, 0, .9]]), \n",
    "     np.array([[.1, .1, 0, .8], [.1, .1, .8, 0], [0, 0, .9, .1], [0, 0, .1, .9]]),\n",
    "     np.array([[.1, .8, 0, .1], [0, .9, .1, 0], [0, .1, .9, 0], [.1, 0, .8, .1]]),\n",
    "     np.array([[.9, .1, 0, 0], [.1, .9, 0, 0], [0, .8, .1, .1], [.8, 0, .1, .1]])\n",
    "    ]"
   ]
  },
  {
   "cell_type": "code",
   "execution_count": 6,
   "metadata": {},
   "outputs": [],
   "source": [
    "# Reward function; (S,A)\n",
    "R = np.array([\n",
    "    [-1, -1, -1, -1],\n",
    "    [-.02,-.02, -.02, -.02],\n",
    "    [-.02,-.02, -.02, -.02],\n",
    "    [1, 1, 1, 1]\n",
    "])"
   ]
  },
  {
   "cell_type": "code",
   "execution_count": 9,
   "metadata": {},
   "outputs": [],
   "source": [
    "mdp = mdptoolbox.mdp.PolicyIteration(P, R, 0.9)"
   ]
  },
  {
   "cell_type": "code",
   "execution_count": 10,
   "metadata": {},
   "outputs": [],
   "source": [
    "mdp.run()"
   ]
  },
  {
   "cell_type": "code",
   "execution_count": 11,
   "metadata": {},
   "outputs": [
    {
     "data": {
      "text/plain": [
       "2"
      ]
     },
     "execution_count": 11,
     "metadata": {},
     "output_type": "execute_result"
    }
   ],
   "source": [
    "mdp.iter"
   ]
  },
  {
   "cell_type": "code",
   "execution_count": 12,
   "metadata": {},
   "outputs": [
    {
     "data": {
      "text/plain": [
       "(1, 1, 0, 1)"
      ]
     },
     "execution_count": 12,
     "metadata": {},
     "output_type": "execute_result"
    }
   ],
   "source": [
    "mdp.policy"
   ]
  },
  {
   "cell_type": "code",
   "execution_count": 14,
   "metadata": {},
   "outputs": [
    {
     "data": {
      "text/plain": [
       "(6.610519130656382, 6.7141814408970175, 7.68744220757946, 8.9045778878008)"
      ]
     },
     "execution_count": 14,
     "metadata": {},
     "output_type": "execute_result"
    }
   ],
   "source": [
    "# Converged value functions(in fact V* s)\n",
    "mdp.V"
   ]
  },
  {
   "cell_type": "code",
   "execution_count": null,
   "metadata": {},
   "outputs": [],
   "source": []
  }
 ],
 "metadata": {
  "kernelspec": {
   "display_name": "Python 3",
   "language": "python",
   "name": "python3"
  },
  "language_info": {
   "codemirror_mode": {
    "name": "ipython",
    "version": 3
   },
   "file_extension": ".py",
   "mimetype": "text/x-python",
   "name": "python",
   "nbconvert_exporter": "python",
   "pygments_lexer": "ipython3",
   "version": "3.6.8rc1"
  }
 },
 "nbformat": 4,
 "nbformat_minor": 2
}
